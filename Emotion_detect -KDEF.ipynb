{
 "cells": [
  {
   "cell_type": "code",
   "execution_count": 1,
   "metadata": {},
   "outputs": [
    {
     "name": "stderr",
     "output_type": "stream",
     "text": [
      "Using TensorFlow backend.\n"
     ]
    }
   ],
   "source": [
    "#Importing Libraries\n",
    "import tensorflow as tf\n",
    "import numpy as np\n",
    "import matplotlib.pyplot as plt\n",
    "import pandas as pd\n",
    "%matplotlib inline\n",
    "from keras.models import Sequential\n",
    "from keras.layers import BatchNormalization,Conv2D,MaxPooling2D,Dense,Dropout,Flatten,LocallyConnected2D\n",
    "from keras.optimizers import Adam\n",
    "from keras.callbacks import EarlyStopping\n",
    "from keras.regularizers import l1,l2\n",
    "from keras.utils import plot_model,to_categorical\n",
    "import pandas as pd"
   ]
  },
  {
   "cell_type": "code",
   "execution_count": 2,
   "metadata": {},
   "outputs": [],
   "source": [
    "config = tf.ConfigProto()\n",
    "config.gpu_options.allow_growth = True\n",
    "session = tf.Session(config=config)"
   ]
  },
  {
   "cell_type": "code",
   "execution_count": 3,
   "metadata": {},
   "outputs": [],
   "source": [
    "emotions = {0:'Anger', 1:'Disgust', 2:'Fear', 3:'Happy', 4:'Sad', 5:'Surprise', 6:'Neutral'}\n",
    "emotion = ['Anger', 'Disgust', 'Fear', 'Happy', 'Sad', 'Surprise', 'Neutral']"
   ]
  },
  {
   "cell_type": "code",
   "execution_count": 4,
   "metadata": {},
   "outputs": [],
   "source": [
    "def plot_images(images,label=1):  \n",
    "    plt.imshow(np.reshape(images,(48,48)))\n",
    "    plt.show()\n",
    "    if label is not 1 :\n",
    "        print(\"Emotion Detected: \"+emotions[label.argmax()])\n",
    "\n"
   ]
  },
  {
   "cell_type": "markdown",
   "metadata": {},
   "source": [
    "# emotions = [      0   ,        1      ,      2   ,      3     ,      4   ,         5     ,        6      ]\n",
    "# emotions = ['Anger', 'Disgust', 'Fear', 'Happy', 'Sad', 'Surprise', 'Neutral']"
   ]
  },
  {
   "cell_type": "markdown",
   "metadata": {},
   "source": [
    "# ----------Extra dataset concat---------------------"
   ]
  },
  {
   "cell_type": "code",
   "execution_count": 5,
   "metadata": {},
   "outputs": [],
   "source": [
    "import cv2"
   ]
  },
  {
   "cell_type": "code",
   "execution_count": 6,
   "metadata": {},
   "outputs": [],
   "source": [
    "import os"
   ]
  },
  {
   "cell_type": "code",
   "execution_count": 7,
   "metadata": {},
   "outputs": [],
   "source": [
    "xx_new=[]\n",
    "y=[]\n",
    "ytmp=[0,0,0,0,0,0,0]"
   ]
  },
  {
   "cell_type": "code",
   "execution_count": 8,
   "metadata": {},
   "outputs": [],
   "source": [
    "i=0\n",
    "for image in os.listdir(\"KDEF_VGG_DATA\"):\n",
    "    name=image[-5:]\n",
    "    ytmp[int(name[0])]=1\n",
    "    y.append(ytmp)\n",
    "    a=cv2.imread(os.getcwd()+\"\\\\KDEF_VGG_DATA\\\\\"+image,cv2.IMREAD_GRAYSCALE)\n",
    "    \n",
    "    a=a/255\n",
    "    b=cv2.resize(a,(48,48))\n",
    "    b=np.reshape(b,(48,48,1))\n",
    "    \n",
    "    xx_new.append(b)\n",
    "    #plt.imshow(xx_new[])\n",
    "    #plt.show()\n",
    "    i=i+1\n",
    "    ytmp=[0,0,0,0,0,0,0]\n",
    "y=np.array(y,np.float32)  \n",
    "xx_new=np.array(xx_new,np.float32)"
   ]
  },
  {
   "cell_type": "code",
   "execution_count": 9,
   "metadata": {},
   "outputs": [],
   "source": [
    "from sklearn.model_selection import train_test_split"
   ]
  },
  {
   "cell_type": "code",
   "execution_count": 10,
   "metadata": {},
   "outputs": [],
   "source": [
    "x_train,x_test,ytrain_lab,ytest_lab=train_test_split(xx_new,y,test_size=0.1)"
   ]
  },
  {
   "cell_type": "code",
   "execution_count": 11,
   "metadata": {},
   "outputs": [
    {
     "data": {
      "text/plain": [
       "(48, 48, 1)"
      ]
     },
     "execution_count": 11,
     "metadata": {},
     "output_type": "execute_result"
    }
   ],
   "source": [
    "x_train[3900].shape\n"
   ]
  },
  {
   "cell_type": "markdown",
   "metadata": {},
   "source": [
    "**--------------------------------------------------------------------**"
   ]
  },
  {
   "cell_type": "code",
   "execution_count": 12,
   "metadata": {},
   "outputs": [
    {
     "data": {
      "image/png": "[encoded data removed]",
      "text/plain": [
       "<Figure size 432x288 with 1 Axes>"
      ]
     },
     "metadata": {},
     "output_type": "display_data"
    },
    {
     "name": "stdout",
     "output_type": "stream",
     "text": [
      "Emotion Detected: Happy\n"
     ]
    }
   ],
   "source": [
    "#-----------------------------------------Plotting Images-----------------------------------------\n",
    "\n",
    "\n",
    "plot_images(x_train[3900],ytrain_lab[3900])\n",
    "#plot_images(np.reshape(img1,-1),train_lab[0])"
   ]
  },
  {
   "cell_type": "markdown",
   "metadata": {},
   "source": [
    "# Building Network"
   ]
  },
  {
   "cell_type": "markdown",
   "metadata": {},
   "source": [
    "**Run this cell if you dont have model.h5 file**"
   ]
  },
  {
   "cell_type": "code",
   "execution_count": 13,
   "metadata": {},
   "outputs": [],
   "source": [
    "#------------------------------------------Trainning FER dataset------------------------------------------------\n",
    "model=Sequential()\n",
    "\n",
    "model.add(Conv2D(36,3,padding='same',activation='relu',input_shape=(48,48,1)))\n",
    "model.add(Conv2D(36, 3, padding='same', activation='relu'))\n",
    "model.add(MaxPooling2D(pool_size=(2, 2)))\n",
    "model.add(Conv2D(64, 3, padding='same', activation='relu'))\n",
    "model.add(Conv2D(64, 3, padding='same', activation='relu'))\n",
    "model.add(MaxPooling2D(pool_size=(2, 2)))\n",
    "model.add(Conv2D(128, 3, padding='same', activation='relu'))\n",
    "model.add(Conv2D(128, 3, padding='same', activation='relu'))\n",
    "model.add(MaxPooling2D(pool_size=(2, 2)))\n",
    "model.add(Dropout(0.3))\n",
    "model.add(LocallyConnected2D(100, 3, padding='valid', activation='relu'))\n",
    "model.add(LocallyConnected2D(100, 3, padding='valid', activation='relu'))\n",
    "model.add(Flatten())\n",
    "model.add(Dense(64, activation='relu'))\n",
    "model.add(Dropout(0.3))\n",
    "model.add(Dense(64, activation='relu'))\n",
    "model.add(Dense(7, activation='softmax'))"
   ]
  },
  {
   "cell_type": "code",
   "execution_count": 15,
   "metadata": {},
   "outputs": [
    {
     "name": "stdout",
     "output_type": "stream",
     "text": [
      "Train on 3079 samples, validate on 1320 samples\n",
      "Epoch 1/70\n",
      "3079/3079 [==============================] - 4s 1ms/step - loss: 1.9460 - acc: 0.1475 - val_loss: 1.9478 - val_acc: 0.1311\n",
      "Epoch 2/70\n",
      "3079/3079 [==============================] - 2s 785us/step - loss: 1.9457 - acc: 0.1478 - val_loss: 1.9474 - val_acc: 0.1356\n",
      "Epoch 3/70\n",
      "3079/3079 [==============================] - 2s 785us/step - loss: 1.9445 - acc: 0.1546 - val_loss: 1.9465 - val_acc: 0.1417\n",
      "Epoch 4/70\n",
      "3079/3079 [==============================] - 2s 787us/step - loss: 1.9427 - acc: 0.1549 - val_loss: 1.9469 - val_acc: 0.1508\n",
      "Epoch 5/70\n",
      "3079/3079 [==============================] - 2s 787us/step - loss: 1.9395 - acc: 0.1582 - val_loss: 1.9445 - val_acc: 0.1598\n",
      "Epoch 6/70\n",
      "3079/3079 [==============================] - 2s 788us/step - loss: 1.9357 - acc: 0.1747 - val_loss: 1.9432 - val_acc: 0.1803\n",
      "Epoch 7/70\n",
      "3079/3079 [==============================] - 2s 789us/step - loss: 1.9309 - acc: 0.1897 - val_loss: 1.9311 - val_acc: 0.2136\n",
      "Epoch 8/70\n",
      "3079/3079 [==============================] - 2s 789us/step - loss: 1.9130 - acc: 0.2163 - val_loss: 1.8840 - val_acc: 0.2348\n",
      "Epoch 9/70\n",
      "3079/3079 [==============================] - 2s 790us/step - loss: 1.8618 - acc: 0.2485 - val_loss: 1.8003 - val_acc: 0.2568\n",
      "Epoch 10/70\n",
      "3079/3079 [==============================] - 2s 790us/step - loss: 1.8261 - acc: 0.2381 - val_loss: 1.7922 - val_acc: 0.2485\n",
      "Epoch 11/70\n",
      "3079/3079 [==============================] - 2s 790us/step - loss: 1.7571 - acc: 0.2761 - val_loss: 1.6852 - val_acc: 0.3023\n",
      "Epoch 12/70\n",
      "3079/3079 [==============================] - 2s 790us/step - loss: 1.6833 - acc: 0.3014 - val_loss: 1.5539 - val_acc: 0.3689\n",
      "Epoch 13/70\n",
      "3079/3079 [==============================] - 2s 793us/step - loss: 1.5981 - acc: 0.3491 - val_loss: 1.4431 - val_acc: 0.4159\n",
      "Epoch 14/70\n",
      "3079/3079 [==============================] - 2s 791us/step - loss: 1.5319 - acc: 0.3738 - val_loss: 1.3882 - val_acc: 0.4341\n",
      "Epoch 15/70\n",
      "3079/3079 [==============================] - 2s 792us/step - loss: 1.4645 - acc: 0.3982 - val_loss: 1.5690 - val_acc: 0.3689\n",
      "Epoch 16/70\n",
      "3079/3079 [==============================] - 2s 792us/step - loss: 1.5060 - acc: 0.3940 - val_loss: 1.3834 - val_acc: 0.4485\n",
      "Epoch 17/70\n",
      "3079/3079 [==============================] - 2s 791us/step - loss: 1.4315 - acc: 0.4268 - val_loss: 1.3280 - val_acc: 0.4432\n",
      "Epoch 18/70\n",
      "3079/3079 [==============================] - 2s 793us/step - loss: 1.3623 - acc: 0.4505 - val_loss: 1.2808 - val_acc: 0.4720\n",
      "Epoch 19/70\n",
      "3079/3079 [==============================] - 2s 793us/step - loss: 1.3289 - acc: 0.4583 - val_loss: 1.2478 - val_acc: 0.5015\n",
      "Epoch 20/70\n",
      "3079/3079 [==============================] - 2s 793us/step - loss: 1.2849 - acc: 0.4914 - val_loss: 1.2273 - val_acc: 0.4886\n",
      "Epoch 21/70\n",
      "3079/3079 [==============================] - 2s 794us/step - loss: 1.2583 - acc: 0.4956 - val_loss: 1.1927 - val_acc: 0.5508\n",
      "Epoch 22/70\n",
      "3079/3079 [==============================] - 2s 795us/step - loss: 1.1971 - acc: 0.5184 - val_loss: 1.1476 - val_acc: 0.5477\n",
      "Epoch 23/70\n",
      "3079/3079 [==============================] - 2s 794us/step - loss: 1.1626 - acc: 0.5323 - val_loss: 1.1250 - val_acc: 0.5629\n",
      "Epoch 24/70\n",
      "3079/3079 [==============================] - 2s 795us/step - loss: 1.1324 - acc: 0.5544 - val_loss: 1.0612 - val_acc: 0.5811\n",
      "Epoch 25/70\n",
      "3079/3079 [==============================] - 2s 794us/step - loss: 1.0946 - acc: 0.5599 - val_loss: 1.0688 - val_acc: 0.5902\n",
      "Epoch 26/70\n",
      "3079/3079 [==============================] - 2s 794us/step - loss: 1.0642 - acc: 0.5833 - val_loss: 1.0163 - val_acc: 0.5962\n",
      "Epoch 27/70\n",
      "3079/3079 [==============================] - 2s 793us/step - loss: 1.0524 - acc: 0.5833 - val_loss: 1.0157 - val_acc: 0.5932\n",
      "Epoch 28/70\n",
      "3079/3079 [==============================] - 2s 793us/step - loss: 1.0150 - acc: 0.5992 - val_loss: 0.9672 - val_acc: 0.6265\n",
      "Epoch 29/70\n",
      "3079/3079 [==============================] - 2s 793us/step - loss: 0.9628 - acc: 0.6259 - val_loss: 0.9453 - val_acc: 0.6402\n",
      "Epoch 30/70\n",
      "3079/3079 [==============================] - 2s 794us/step - loss: 0.9214 - acc: 0.6281 - val_loss: 0.8982 - val_acc: 0.6576\n",
      "Epoch 31/70\n",
      "3079/3079 [==============================] - 2s 793us/step - loss: 0.9238 - acc: 0.6343 - val_loss: 0.8903 - val_acc: 0.6621\n",
      "Epoch 32/70\n",
      "3079/3079 [==============================] - 2s 793us/step - loss: 0.9008 - acc: 0.6411 - val_loss: 0.8879 - val_acc: 0.6583\n",
      "Epoch 33/70\n",
      "3079/3079 [==============================] - 2s 794us/step - loss: 0.8544 - acc: 0.6593 - val_loss: 1.0151 - val_acc: 0.6129\n",
      "Epoch 34/70\n",
      "3079/3079 [==============================] - 2s 794us/step - loss: 0.9028 - acc: 0.6418 - val_loss: 0.8744 - val_acc: 0.6576\n",
      "Epoch 35/70\n",
      "3079/3079 [==============================] - 2s 793us/step - loss: 0.8503 - acc: 0.6655 - val_loss: 0.9134 - val_acc: 0.6455\n",
      "Epoch 36/70\n",
      "3079/3079 [==============================] - 2s 793us/step - loss: 0.8480 - acc: 0.6587 - val_loss: 0.9019 - val_acc: 0.6485\n",
      "Epoch 37/70\n",
      "3079/3079 [==============================] - 2s 793us/step - loss: 0.7983 - acc: 0.6762 - val_loss: 0.8485 - val_acc: 0.6765\n",
      "Epoch 38/70\n",
      "3079/3079 [==============================] - 2s 793us/step - loss: 0.7937 - acc: 0.6843 - val_loss: 0.9684 - val_acc: 0.6424\n",
      "Epoch 39/70\n",
      "3079/3079 [==============================] - 2s 793us/step - loss: 0.8179 - acc: 0.6710 - val_loss: 0.9433 - val_acc: 0.6409\n",
      "Epoch 40/70\n",
      "3079/3079 [==============================] - 2s 792us/step - loss: 0.8225 - acc: 0.6661 - val_loss: 0.8865 - val_acc: 0.6492\n",
      "Epoch 41/70\n",
      "3079/3079 [==============================] - 2s 793us/step - loss: 0.7825 - acc: 0.6876 - val_loss: 0.8036 - val_acc: 0.6864\n",
      "Epoch 42/70\n",
      "3079/3079 [==============================] - 2s 793us/step - loss: 0.7296 - acc: 0.7174 - val_loss: 0.8117 - val_acc: 0.6902\n",
      "Epoch 43/70\n",
      "3079/3079 [==============================] - 2s 793us/step - loss: 0.6992 - acc: 0.7184 - val_loss: 0.7933 - val_acc: 0.6871\n",
      "Epoch 44/70\n",
      "3079/3079 [==============================] - 2s 794us/step - loss: 0.6843 - acc: 0.7321 - val_loss: 0.8355 - val_acc: 0.6803\n",
      "Epoch 45/70\n",
      "3079/3079 [==============================] - 2s 794us/step - loss: 0.6909 - acc: 0.7269 - val_loss: 0.7915 - val_acc: 0.7083\n",
      "Epoch 46/70\n",
      "3079/3079 [==============================] - 2s 794us/step - loss: 0.6401 - acc: 0.7376 - val_loss: 0.8267 - val_acc: 0.6977\n",
      "Epoch 47/70\n",
      "3079/3079 [==============================] - 2s 794us/step - loss: 0.6592 - acc: 0.7382 - val_loss: 0.8078 - val_acc: 0.6947\n",
      "Epoch 48/70\n",
      "3079/3079 [==============================] - 2s 794us/step - loss: 0.6205 - acc: 0.7574 - val_loss: 0.8065 - val_acc: 0.7008\n",
      "Epoch 49/70\n",
      "3079/3079 [==============================] - 2s 797us/step - loss: 0.5874 - acc: 0.7740 - val_loss: 0.7750 - val_acc: 0.7106\n",
      "Epoch 50/70\n",
      "3079/3079 [==============================] - 2s 794us/step - loss: 0.5600 - acc: 0.7830 - val_loss: 0.8021 - val_acc: 0.7189\n",
      "Epoch 51/70\n",
      "3079/3079 [==============================] - 2s 794us/step - loss: 0.5537 - acc: 0.7876 - val_loss: 0.8057 - val_acc: 0.7311\n",
      "Epoch 52/70\n",
      "3079/3079 [==============================] - 2s 793us/step - loss: 0.5890 - acc: 0.7788 - val_loss: 0.7659 - val_acc: 0.7235\n",
      "Epoch 53/70\n",
      "3079/3079 [==============================] - 2s 796us/step - loss: 0.5552 - acc: 0.7908 - val_loss: 0.7532 - val_acc: 0.7402\n",
      "Epoch 54/70\n",
      "3079/3079 [==============================] - 2s 797us/step - loss: 0.5120 - acc: 0.8077 - val_loss: 0.7998 - val_acc: 0.7129\n",
      "Epoch 55/70\n",
      "3079/3079 [==============================] - 2s 794us/step - loss: 0.4822 - acc: 0.8152 - val_loss: 0.8005 - val_acc: 0.7174\n",
      "Epoch 56/70\n",
      "3079/3079 [==============================] - 2s 795us/step - loss: 0.4859 - acc: 0.8087 - val_loss: 0.7750 - val_acc: 0.7409\n",
      "Epoch 57/70\n",
      "3079/3079 [==============================] - 2s 796us/step - loss: 0.5015 - acc: 0.8064 - val_loss: 0.7475 - val_acc: 0.7477\n",
      "Epoch 58/70\n",
      "3079/3079 [==============================] - 2s 794us/step - loss: 0.4500 - acc: 0.8275 - val_loss: 0.8128 - val_acc: 0.7220\n",
      "Epoch 59/70\n",
      "3079/3079 [==============================] - 2s 794us/step - loss: 0.5224 - acc: 0.7967 - val_loss: 0.7790 - val_acc: 0.7303\n",
      "Epoch 60/70\n"
     ]
    },
    {
     "name": "stdout",
     "output_type": "stream",
     "text": [
      "3079/3079 [==============================] - 2s 795us/step - loss: 0.4583 - acc: 0.8272 - val_loss: 0.8244 - val_acc: 0.7341\n",
      "Epoch 61/70\n",
      "3079/3079 [==============================] - 2s 795us/step - loss: 0.4206 - acc: 0.8428 - val_loss: 0.8027 - val_acc: 0.7409\n",
      "Epoch 62/70\n",
      "3079/3079 [==============================] - 2s 795us/step - loss: 0.4223 - acc: 0.8409 - val_loss: 0.8322 - val_acc: 0.7273\n",
      "Epoch 63/70\n",
      "3079/3079 [==============================] - 2s 793us/step - loss: 0.4247 - acc: 0.8366 - val_loss: 0.7517 - val_acc: 0.7439\n",
      "Epoch 64/70\n",
      "3079/3079 [==============================] - 2s 794us/step - loss: 0.3804 - acc: 0.8613 - val_loss: 0.8191 - val_acc: 0.7515\n",
      "Epoch 65/70\n",
      "3079/3079 [==============================] - 2s 794us/step - loss: 0.3915 - acc: 0.8509 - val_loss: 0.7532 - val_acc: 0.7553\n",
      "Epoch 66/70\n",
      "3079/3079 [==============================] - 2s 794us/step - loss: 0.3644 - acc: 0.8633 - val_loss: 0.7962 - val_acc: 0.7455\n",
      "Epoch 67/70\n",
      "3079/3079 [==============================] - 2s 794us/step - loss: 0.3491 - acc: 0.8685 - val_loss: 0.7873 - val_acc: 0.7576\n",
      "Epoch 68/70\n",
      "3079/3079 [==============================] - 2s 794us/step - loss: 0.2884 - acc: 0.8944 - val_loss: 0.8671 - val_acc: 0.7545\n",
      "Epoch 69/70\n",
      "3079/3079 [==============================] - 2s 794us/step - loss: 0.3805 - acc: 0.8623 - val_loss: 0.8671 - val_acc: 0.7515\n",
      "Epoch 70/70\n",
      "3079/3079 [==============================] - 2s 794us/step - loss: 0.3517 - acc: 0.8724 - val_loss: 0.7437 - val_acc: 0.7636\n",
      "*Net Time :  2.898790431022644  mins...\n"
     ]
    }
   ],
   "source": [
    "import time\n",
    "\n",
    "start = time.time()\n",
    "batchSize = 500\n",
    "trainingEpochs = 70\n",
    "\n",
    "model.compile(optimizer='adam', loss='categorical_crossentropy',\n",
    "              metrics=['accuracy'])\n",
    "\n",
    "early_stopping = EarlyStopping(monitor='val_loss', patience=10, verbose=1)\n",
    "\n",
    "trainingHistory = model.fit(x_train, ytrain_lab, batch_size=batchSize, \n",
    "                            epochs=trainingEpochs,\n",
    "                            validation_split=0.3, \n",
    "                            #callbacks=[early_stopping], \n",
    "                            shuffle=True,)\n",
    "\n",
    "trainingAccuracy = trainingHistory.history['acc']\n",
    "validationAccuracy = trainingHistory.history['val_acc']\n",
    "\n",
    "end = time.time()\n",
    "print(\"*Net Time : \", (end-start)/60, ' mins...')"
   ]
  },
  {
   "cell_type": "markdown",
   "metadata": {},
   "source": [
    "**Model Accuracy::--**"
   ]
  },
  {
   "cell_type": "code",
   "execution_count": 16,
   "metadata": {},
   "outputs": [
    {
     "name": "stdout",
     "output_type": "stream",
     "text": [
      "489/489 [==============================] - 0s 532us/step\n",
      "Accuracy: 75.66%\n"
     ]
    }
   ],
   "source": [
    "\n",
    "scores = model.evaluate(x_test, ytest_lab)\n",
    "print('%s: %.2f%%'% (\"Accuracy\", scores[1]*100))"
   ]
  },
  {
   "cell_type": "markdown",
   "metadata": {},
   "source": [
    "**Saving Model:-**"
   ]
  },
  {
   "cell_type": "code",
   "execution_count": 17,
   "metadata": {},
   "outputs": [],
   "source": [
    "model.save(\"model.h5\")\n",
    "model.save_weights(\"model_weights.h5\")"
   ]
  },
  {
   "cell_type": "markdown",
   "metadata": {},
   "source": [
    "# Loading Saved Model"
   ]
  },
  {
   "cell_type": "code",
   "execution_count": 5,
   "metadata": {},
   "outputs": [],
   "source": [
    "from keras.models import load_model"
   ]
  },
  {
   "cell_type": "code",
   "execution_count": 6,
   "metadata": {},
   "outputs": [],
   "source": [
    "def creat_mod():\n",
    "    model=Sequential()\n",
    "\n",
    "    model.add(Conv2D(36,3,padding='same',activation='relu',input_shape=(48,48,1)))\n",
    "    model.add(Conv2D(36, 3, padding='same', activation='relu'))\n",
    "    model.add(MaxPooling2D(pool_size=(2, 2)))\n",
    "    model.add(Conv2D(64, 3, padding='same', activation='relu'))\n",
    "    model.add(Conv2D(64, 3, padding='same', activation='relu'))\n",
    "    model.add(MaxPooling2D(pool_size=(2, 2)))\n",
    "    model.add(Conv2D(128, 3, padding='same', activation='relu'))\n",
    "    model.add(Conv2D(128, 3, padding='same', activation='relu'))\n",
    "    model.add(MaxPooling2D(pool_size=(2, 2)))\n",
    "    model.add(Dropout(0.3))\n",
    "    model.add(LocallyConnected2D(100, 3, padding='valid', activation='relu'))\n",
    "    model.add(LocallyConnected2D(100, 3, padding='valid', activation='relu'))\n",
    "    model.add(Flatten())\n",
    "    model.add(Dense(64, activation='relu'))\n",
    "    model.add(Dropout(0.3))\n",
    "    model.add(Dense(64, activation='relu'))\n",
    "    model.add(Dense(7, activation='softmax'))\n",
    "    return model"
   ]
  },
  {
   "cell_type": "code",
   "execution_count": 7,
   "metadata": {},
   "outputs": [],
   "source": [
    "mod=creat_mod()\n",
    "mod.load_weights(\"model_weights.h5\")\n",
    "#model1=load_model(\"model.h5\")\n",
    "model1=mod"
   ]
  },
  {
   "cell_type": "code",
   "execution_count": 8,
   "metadata": {},
   "outputs": [],
   "source": [
    "model1.compile(optimizer='rmsprop', loss='categorical_crossentropy',\n",
    "              metrics=['accuracy'])"
   ]
  },
  {
   "cell_type": "markdown",
   "metadata": {},
   "source": [
    "**Predicting from test dataset**"
   ]
  },
  {
   "cell_type": "code",
   "execution_count": 49,
   "metadata": {},
   "outputs": [
    {
     "data": {
      "image/png": "[encoded data removed]",
      "text/plain": [
       "<Figure size 432x288 with 1 Axes>"
      ]
     },
     "metadata": {},
     "output_type": "display_data"
    }
   ],
   "source": [
    "idx=400\n",
    "prediction=model1.predict_proba(x_test[idx].reshape(1,48,48,1))\n",
    "plot_images(x_test[idx],1)"
   ]
  },
  {
   "cell_type": "code",
   "execution_count": 50,
   "metadata": {},
   "outputs": [
    {
     "name": "stdout",
     "output_type": "stream",
     "text": [
      "[[2.2541262e-09 2.6001125e-08 4.9670968e-02 6.7193048e-07 1.1577384e-05\n",
      "  9.5031613e-01 5.9601263e-07]]\n"
     ]
    },
    {
     "data": {
      "text/plain": [
       "'Surprise'"
      ]
     },
     "execution_count": 50,
     "metadata": {},
     "output_type": "execute_result"
    }
   ],
   "source": [
    "print(prediction)\n",
    "emotions[prediction[0].argmax()]"
   ]
  },
  {
   "cell_type": "markdown",
   "metadata": {},
   "source": [
    "**Plotting the results**"
   ]
  },
  {
   "cell_type": "code",
   "execution_count": 51,
   "metadata": {},
   "outputs": [
    {
     "data": {
      "image/png": "[encoded data removed]",
      "text/plain": [
       "<Figure size 432x288 with 1 Axes>"
      ]
     },
     "metadata": {},
     "output_type": "display_data"
    }
   ],
   "source": [
    "emt=[prediction[0][0],prediction[0][1],prediction[0][2],prediction[0][3],prediction[0][4],prediction[0][5],prediction[0][6]]\n",
    "\n",
    "indx=np.arange(len(emotion))\n",
    "plt.bar(indx,emt,edgecolor='black',alpha=1)\n",
    "plt.xticks(indx,emotion)\n",
    "plt.show()"
   ]
  },
  {
   "cell_type": "code",
   "execution_count": 52,
   "metadata": {},
   "outputs": [],
   "source": [
    "import cv2"
   ]
  },
  {
   "cell_type": "markdown",
   "metadata": {},
   "source": [
    "**Classifier to detect faces**"
   ]
  },
  {
   "cell_type": "code",
   "execution_count": 9,
   "metadata": {},
   "outputs": [],
   "source": [
    "import cv2\n",
    "modelFile = \"opencv_face_detector_uint8.pb\"\n",
    "configFile = \"opencv_face_detector.pbtxt\"\n",
    "net = cv2.dnn.readNetFromTensorflow(modelFile, configFile)"
   ]
  },
  {
   "cell_type": "code",
   "execution_count": 10,
   "metadata": {},
   "outputs": [],
   "source": [
    "\n",
    "\n",
    "            \n",
    "def detect(image):\n",
    "\n",
    "    gray=image\n",
    "\n",
    "\n",
    "    blob = cv2.dnn.blobFromImage(gray, 1.0, (300, 300), [104, 117, 123], False, False)\n",
    "    net.setInput(blob)\n",
    "    detections = net.forward()\n",
    "    bboxes = []\n",
    "    gray=cv2.cvtColor(image,cv2.COLOR_RGB2GRAY)\n",
    "    frameWidth=image.shape[1]\n",
    "    frameHeight=image.shape[0]\n",
    "    for i in range(detections.shape[2]):\n",
    "        confidence = detections[0, 0, i, 2]\n",
    "        if confidence > 0.6:\n",
    "            x1 = int(detections[0, 0, i, 3] * frameWidth)\n",
    "            y1 = int(detections[0, 0, i, 4] * frameHeight)\n",
    "            x2 = int(detections[0, 0, i, 5] * frameWidth)\n",
    "            y2 = int(detections[0, 0, i, 6] * frameHeight)\n",
    "            cv2.rectangle(image,(x1,y1),(x2,y2),(255,0,0),2)\n",
    "            try:\n",
    "                image1 = gray[y1:(y2), x1:(x2)]\n",
    "\n",
    "                img = cv2.resize(image1, (48,48), interpolation = cv2.INTER_CUBIC) / 255.\n",
    "\n",
    "                prediction=model1.predict_proba(img.reshape(1,48,48,1))\n",
    "\n",
    "\n",
    "\n",
    "                plot_images(img,1)\n",
    "                plt.show()\n",
    "                print(\"Emotion Detected: - \"+emotions[prediction[0].argmax()])\n",
    "                emt=[prediction[0][0],prediction[0][1],prediction[0][2],prediction[0][3],prediction[0][4],prediction[0][5],prediction[0][6]]\n",
    "                indx=np.arange(len(emotion))\n",
    "                plt.bar(indx,emt)\n",
    "                plt.xticks(indx,emotion)\n",
    "                plt.show()\n",
    "            except:\n",
    "                print(\"----->Problem during resize .Probably Cant detect any face\")"
   ]
  },
  {
   "cell_type": "markdown",
   "metadata": {},
   "source": [
    "# Test Your image here\n",
    "**Save the image file in same directory with filename:- testimage.jpg**"
   ]
  },
  {
   "cell_type": "code",
   "execution_count": 11,
   "metadata": {},
   "outputs": [
    {
     "data": {
      "text/plain": [
       "(762, 562, 3)"
      ]
     },
     "execution_count": 11,
     "metadata": {},
     "output_type": "execute_result"
    }
   ],
   "source": [
    "image=cv2.imread(\"t5.jpg\")\n",
    "image.shape"
   ]
  },
  {
   "cell_type": "code",
   "execution_count": 12,
   "metadata": {},
   "outputs": [
    {
     "data": {
      "image/png": "[encoded data removed]",
      "text/plain": [
       "<Figure size 432x288 with 1 Axes>"
      ]
     },
     "metadata": {},
     "output_type": "display_data"
    },
    {
     "name": "stdout",
     "output_type": "stream",
     "text": [
      "Emotion Detected: - Fear\n"
     ]
    },
    {
     "data": {
      "image/png": "[encoded data removed]",
      "text/plain": [
       "<Figure size 432x288 with 1 Axes>"
      ]
     },
     "metadata": {},
     "output_type": "display_data"
    }
   ],
   "source": [
    "detect(image)"
   ]
  },
  {
   "cell_type": "code",
   "execution_count": 16,
   "metadata": {},
   "outputs": [],
   "source": [
    "def detect_video(image):\n",
    "\n",
    "    gray=image\n",
    "\n",
    "\n",
    "    blob = cv2.dnn.blobFromImage(gray, 1.0, (300, 300), [104, 117, 123], False, False)\n",
    "    net.setInput(blob)\n",
    "    detections = net.forward()\n",
    "    bboxes = []\n",
    "    gray=cv2.cvtColor(image,cv2.COLOR_RGB2GRAY)\n",
    "    frameWidth=image.shape[1]\n",
    "    frameHeight=image.shape[0]\n",
    "    for i in range(detections.shape[2]):\n",
    "        confidence = detections[0, 0, i, 2]\n",
    "        if confidence > 0.6:\n",
    "            x1 = int(detections[0, 0, i, 3] * frameWidth)\n",
    "            y1 = int(detections[0, 0, i, 4] * frameHeight)\n",
    "            x2 = int(detections[0, 0, i, 5] * frameWidth)\n",
    "            y2 = int(detections[0, 0, i, 6] * frameHeight)\n",
    "            cv2.rectangle(image,(x1,y1),(x2,y2),(255,0,0),2)\n",
    "            try:\n",
    "                image1 = gray[y1:(y2), x1:(x2)]\n",
    "\n",
    "                img = cv2.resize(image1, (48,48), interpolation = cv2.INTER_CUBIC) / 255.\n",
    "\n",
    "                prediction=model1.predict_proba(img.reshape(1,48,48,1))\n",
    "\n",
    "                font = cv2.FONT_HERSHEY_SIMPLEX\n",
    "                cv2.putText(image,str(emotions[prediction[0].argmax()]),(x1,y1+10), font, 1,(255,255,255),2,cv2.LINE_AA)\n",
    "\n",
    "                result=prediction\n",
    "                if result is not None:\n",
    "                    if result[0][6] < 0.6:\n",
    "                        result[0][6] = result[0][6] - 0.12\n",
    "                        result[0][:3] += 0.01\n",
    "                        result[0][4:5] += 0.04\n",
    "        # write the different emotions and have a bar to indicate probabilities for each class\n",
    "                    for index, emot in enumerate(emotion):\n",
    "                        cv2.putText(image, emot, (10, index * 20 + 20), cv2.FONT_HERSHEY_SIMPLEX, 0.5, (0, 255, 0), 1)\n",
    "                        cv2.rectangle(image, (130, index * 20 + 10), (130 + int(result[0][index] * 100), (index + 1) * 20 + 4), (255, 0, 0), -1)\n",
    "                    emt=[prediction[0][0],prediction[0][1],prediction[0][2],prediction[0][3],prediction[0][4],prediction[0][5],prediction[0][6]]\n",
    "                    indx=np.arange(len(emotion))\n",
    "                    plt.bar(indx,emt,color='blue')\n",
    "\n",
    "                    plt.xticks(indx,emotion)\n",
    "                    plt.savefig(\"ab.png\")\n",
    "                    cv2.imshow(\"graph\",cv2.imread(\"ab.png\"))\n",
    "                    plt.clf()\n",
    "                    #cv2.waitKey(5)\n",
    "                    #plt.show()\n",
    "                    #return indx,emt\n",
    "\n",
    "\n",
    "            except:\n",
    "                print(\"----->Problem during resize .Probably Cant detect any face\")\n"
   ]
  },
  {
   "cell_type": "code",
   "execution_count": 18,
   "metadata": {},
   "outputs": [
    {
     "data": {
      "text/plain": [
       "<Figure size 432x288 with 0 Axes>"
      ]
     },
     "metadata": {},
     "output_type": "display_data"
    }
   ],
   "source": [
    "cap=cv2.VideoCapture(\"v.mp4\")\n",
    "while True:\n",
    "    _,frame=cap.read()\n",
    "    frame1=detect_video(frame)\n",
    "    cv2.imshow(\"frame\",frame)\n",
    "    k=cv2.waitKey(15) & 0xFF\n",
    "    if k==27:\n",
    "        break\n",
    "cap.release()\n",
    "cv2.destroyAllWindows()"
   ]
  },
  {
   "cell_type": "code",
   "execution_count": 69,
   "metadata": {},
   "outputs": [],
   "source": [
    "from sklearn.metrics import confusion_matrix"
   ]
  },
  {
   "cell_type": "code",
   "execution_count": 70,
   "metadata": {},
   "outputs": [],
   "source": [
    "y_prob = model1.predict(x_test, batch_size=32, verbose=0)\n",
    "y_pred = [np.argmax(prob) for prob in y_prob]\n",
    "y_true = [np.argmax(true) for true in ytest_lab]"
   ]
  },
  {
   "cell_type": "code",
   "execution_count": 71,
   "metadata": {},
   "outputs": [],
   "source": [
    "import matplotlib\n",
    "def plot_confusion_matrix(y_true, y_pred, cmap=plt.cm.Blues):\n",
    "    cm = confusion_matrix(y_true, y_pred)\n",
    "    fig = plt.figure(figsize=(6,6))\n",
    "    matplotlib.rcParams.update({'font.size': 16})\n",
    "    ax  = fig.add_subplot(111)\n",
    "    matrix = ax.imshow(cm, interpolation='nearest', cmap=cmap)\n",
    "    fig.colorbar(matrix) \n",
    "    for i in range(0,7):\n",
    "        for j in range(0,7):  \n",
    "            ax.text(j,i,cm[i,j],va='center', ha='center')\n",
    "    # ax.set_title('Confusion Matrix')\n",
    "    ticks = np.arange(len(emotion))\n",
    "    ax.set_xticks(ticks)\n",
    "    ax.set_xticklabels(emotion, rotation=45)\n",
    "    ax.set_yticks(ticks)\n",
    "    ax.set_yticklabels(emotion)\n",
    "    plt.tight_layout()\n",
    "    plt.ylabel('True label')\n",
    "    plt.xlabel('Predicted label')"
   ]
  },
  {
   "cell_type": "code",
   "execution_count": 72,
   "metadata": {},
   "outputs": [
    {
     "data": {
      "image/png": "[encoded data removed]",
      "text/plain": [
       "<Figure size 432x432 with 2 Axes>"
      ]
     },
     "metadata": {},
     "output_type": "display_data"
    }
   ],
   "source": [
    "plot_confusion_matrix(y_true, y_pred, cmap=plt.cm.YlGnBu)\n",
    "plt.show()"
   ]
  },
  {
   "cell_type": "code",
   "execution_count": null,
   "metadata": {},
   "outputs": [],
   "source": []
  }
 ],
 "metadata": {
  "kernelspec": {
   "display_name": "Python 3",
   "language": "python",
   "name": "python3"
  },
  "language_info": {
   "codemirror_mode": {
    "name": "ipython",
    "version": 3
   },
   "file_extension": ".py",
   "mimetype": "text/x-python",
   "name": "python",
   "nbconvert_exporter": "python",
   "pygments_lexer": "ipython3",
   "version": "3.5.5"
  }
 },
 "nbformat": 4,
 "nbformat_minor": 2
}
